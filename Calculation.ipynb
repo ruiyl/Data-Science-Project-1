{
 "cells": [
  {
   "cell_type": "code",
   "execution_count": 1,
   "metadata": {},
   "outputs": [],
   "source": [
    "import numpy as np\n",
    "import pandas as pd"
   ]
  },
  {
   "cell_type": "code",
   "execution_count": 2,
   "metadata": {},
   "outputs": [],
   "source": [
    "df = pd.read_csv('resources/filtered_train_ex.csv')"
   ]
  },
  {
   "cell_type": "code",
   "execution_count": 5,
   "metadata": {},
   "outputs": [],
   "source": [
    "df = df.apply(pd.to_numeric,downcast='unsigned') # reduce memory usage"
   ]
  },
  {
   "cell_type": "code",
   "execution_count": 7,
   "metadata": {},
   "outputs": [
    {
     "name": "stdout",
     "output_type": "stream",
     "text": [
      "53801\n",
      "3386\n"
     ]
    }
   ],
   "source": [
    "n_users = df['user_id'].nunique()\n",
    "n_restaurants = df['restaurant_id'].nunique()\n",
    "print(n_users)\n",
    "print(n_restaurants)"
   ]
  },
  {
   "cell_type": "code",
   "execution_count": 8,
   "metadata": {},
   "outputs": [],
   "source": [
    "from scipy.sparse import csr_matrix\n",
    "from pandas.api.types import CategoricalDtype"
   ]
  },
  {
   "cell_type": "markdown",
   "metadata": {},
   "source": [
    "### Create rows and columns from user_id and restaurant_id"
   ]
  },
  {
   "cell_type": "code",
   "execution_count": 9,
   "metadata": {},
   "outputs": [],
   "source": [
    "user_id_c = CategoricalDtype(sorted(df.user_id.unique()), ordered=True)\n",
    "restaurant_id_c = CategoricalDtype(sorted(df.restaurant_id.unique()), ordered=True)\n",
    "value = df['score']\n",
    "row = df.user_id.astype(user_id_c).cat.codes\n",
    "col = df.restaurant_id.astype(restaurant_id_c).cat.codes"
   ]
  },
  {
   "cell_type": "markdown",
   "metadata": {},
   "source": [
    "### Create score matrix"
   ]
  },
  {
   "cell_type": "code",
   "execution_count": 10,
   "metadata": {},
   "outputs": [],
   "source": [
    "sparse_matrix = csr_matrix((value, (row, col)), shape=(user_id_c.categories.size, restaurant_id_c.categories.size))"
   ]
  },
  {
   "cell_type": "code",
   "execution_count": 11,
   "metadata": {},
   "outputs": [],
   "source": [
    "sparse_matrix = sparse_matrix.astype('f')"
   ]
  },
  {
   "cell_type": "code",
   "execution_count": 12,
   "metadata": {},
   "outputs": [],
   "source": [
    "score_matrix = np.zeros((n_users,n_restaurants),dtype=float)"
   ]
  },
  {
   "cell_type": "code",
   "execution_count": 13,
   "metadata": {},
   "outputs": [],
   "source": [
    "score_matrix[:] = sparse_matrix.todense()"
   ]
  },
  {
   "cell_type": "markdown",
   "metadata": {},
   "source": [
    "### Demean the score matrix"
   ]
  },
  {
   "cell_type": "code",
   "execution_count": 14,
   "metadata": {},
   "outputs": [],
   "source": [
    "mean_score = df.groupby(['user_id'])['score'].mean().to_numpy()"
   ]
  },
  {
   "cell_type": "code",
   "execution_count": 15,
   "metadata": {},
   "outputs": [],
   "source": [
    "demeaned_score = score_matrix - mean_score.reshape(-1,1)"
   ]
  },
  {
   "cell_type": "markdown",
   "metadata": {},
   "source": [
    "### Calculate latent factors and reconstruct the score matrix"
   ]
  },
  {
   "cell_type": "code",
   "execution_count": 16,
   "metadata": {},
   "outputs": [],
   "source": [
    "import scipy.sparse as sp\n",
    "from scipy.sparse.linalg import svds\n",
    "\n",
    "u, s, vt = svds(demeaned_score, k = 50)\n",
    "s_diag_matrix=np.diag(s)\n",
    "X_pred = np.dot(np.dot(u, s_diag_matrix), vt)\n",
    "del u,s,vt,s_diag_matrix"
   ]
  },
  {
   "cell_type": "markdown",
   "metadata": {},
   "source": [
    "### Add the mean score back"
   ]
  },
  {
   "cell_type": "code",
   "execution_count": 17,
   "metadata": {},
   "outputs": [],
   "source": [
    "X_pred = X_pred + mean_score.reshape(-1,1)"
   ]
  },
  {
   "cell_type": "code",
   "execution_count": 18,
   "metadata": {},
   "outputs": [],
   "source": [
    "score_df = pd.DataFrame(X_pred, index=user_id_c.categories, columns=restaurant_id_c.categories)"
   ]
  },
  {
   "cell_type": "code",
   "execution_count": 19,
   "metadata": {},
   "outputs": [],
   "source": [
    "test_df = pd.read_csv('resources/test.csv',header=None)\n",
    "test_df.columns = ['user_id','num_restaurant']"
   ]
  },
  {
   "cell_type": "markdown",
   "metadata": {},
   "source": [
    "### Create default restaurant for new users"
   ]
  },
  {
   "cell_type": "code",
   "execution_count": 26,
   "metadata": {},
   "outputs": [],
   "source": [
    "avg_score = []\n",
    "for i in score_df:\n",
    "    avg_score.append(score_df[score_df[i] > 1][i].size)\n",
    "\n",
    "default_restaurant_df = pd.DataFrame(avg_score, index=score_df.columns)\n",
    "default_restaurant_df.sort_values(by=0, inplace=True, ascending=False)\n",
    "\n",
    "default_restaurant_df.to_csv('resources/default_restaurant.csv')"
   ]
  },
  {
   "cell_type": "markdown",
   "metadata": {},
   "source": [
    "### Predict the test data"
   ]
  },
  {
   "cell_type": "code",
   "execution_count": 33,
   "metadata": {},
   "outputs": [],
   "source": [
    "with open('output.txt','w') as file:\n",
    "    for index, row in test_df.iterrows():\n",
    "        user = row['user_id']\n",
    "        num_restaurant = row['num_restaurant']\n",
    "        user_score = score_df.loc[score_df.index==user]\n",
    "        if (user_score.size==0):\n",
    "            default_restaurant_df.iloc[0:num_restaurant].index.values.tofile(file,sep=',')\n",
    "            file.write('\\n')\n",
    "        else:\n",
    "            corr_restaurant = score_df.loc[score_df.index == user].transpose().sort_values(by=user, ascending=False).index.values\n",
    "            corr_restaurant[0:num_restaurant].tofile(file,sep=',')\n",
    "            file.write('\\n')"
   ]
  },
  {
   "cell_type": "code",
   "execution_count": null,
   "metadata": {},
   "outputs": [],
   "source": []
  }
 ],
 "metadata": {
  "kernelspec": {
   "display_name": "Python 3",
   "language": "python",
   "name": "python3"
  },
  "language_info": {
   "codemirror_mode": {
    "name": "ipython",
    "version": 3
   },
   "file_extension": ".py",
   "mimetype": "text/x-python",
   "name": "python",
   "nbconvert_exporter": "python",
   "pygments_lexer": "ipython3",
   "version": "3.7.3"
  }
 },
 "nbformat": 4,
 "nbformat_minor": 2
}
