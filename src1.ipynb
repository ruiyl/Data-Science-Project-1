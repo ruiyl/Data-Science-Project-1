{
 "cells": [
  {
   "cell_type": "code",
   "execution_count": 1,
   "metadata": {},
   "outputs": [],
   "source": [
    "import numpy as np\n",
    "import pandas as pd"
   ]
  },
  {
   "cell_type": "code",
   "execution_count": 17,
   "metadata": {},
   "outputs": [],
   "source": [
    "df = pd.read_csv('resources/train.csv')"
   ]
  },
  {
   "cell_type": "code",
   "execution_count": 20,
   "metadata": {},
   "outputs": [
    {
     "data": {
      "text/html": [
       "<div>\n",
       "<style scoped>\n",
       "    .dataframe tbody tr th:only-of-type {\n",
       "        vertical-align: middle;\n",
       "    }\n",
       "\n",
       "    .dataframe tbody tr th {\n",
       "        vertical-align: top;\n",
       "    }\n",
       "\n",
       "    .dataframe thead th {\n",
       "        text-align: right;\n",
       "    }\n",
       "</style>\n",
       "<table border=\"1\" class=\"dataframe\">\n",
       "  <thead>\n",
       "    <tr style=\"text-align: right;\">\n",
       "      <th></th>\n",
       "      <th>user_id</th>\n",
       "      <th>restaurant_id</th>\n",
       "      <th>type</th>\n",
       "      <th>timestamp</th>\n",
       "    </tr>\n",
       "  </thead>\n",
       "  <tbody>\n",
       "    <tr>\n",
       "      <th>713262</th>\n",
       "      <td>1</td>\n",
       "      <td>3552</td>\n",
       "      <td>bookmark</td>\n",
       "      <td>3/4/2014</td>\n",
       "    </tr>\n",
       "    <tr>\n",
       "      <th>713258</th>\n",
       "      <td>1</td>\n",
       "      <td>7</td>\n",
       "      <td>bookmark</td>\n",
       "      <td>3/4/2014</td>\n",
       "    </tr>\n",
       "    <tr>\n",
       "      <th>713259</th>\n",
       "      <td>1</td>\n",
       "      <td>3622</td>\n",
       "      <td>bookmark</td>\n",
       "      <td>3/4/2014</td>\n",
       "    </tr>\n",
       "    <tr>\n",
       "      <th>713260</th>\n",
       "      <td>1</td>\n",
       "      <td>5649</td>\n",
       "      <td>bookmark</td>\n",
       "      <td>3/4/2014</td>\n",
       "    </tr>\n",
       "    <tr>\n",
       "      <th>713261</th>\n",
       "      <td>1</td>\n",
       "      <td>1873</td>\n",
       "      <td>bookmark</td>\n",
       "      <td>3/4/2014</td>\n",
       "    </tr>\n",
       "  </tbody>\n",
       "</table>\n",
       "</div>"
      ],
      "text/plain": [
       "        user_id  restaurant_id      type timestamp\n",
       "713262        1           3552  bookmark  3/4/2014\n",
       "713258        1              7  bookmark  3/4/2014\n",
       "713259        1           3622  bookmark  3/4/2014\n",
       "713260        1           5649  bookmark  3/4/2014\n",
       "713261        1           1873  bookmark  3/4/2014"
      ]
     },
     "execution_count": 20,
     "metadata": {},
     "output_type": "execute_result"
    }
   ],
   "source": [
    "df.sort_values('user_id').head()"
   ]
  },
  {
   "cell_type": "code",
   "execution_count": 23,
   "metadata": {},
   "outputs": [],
   "source": [
    "temp = df.groupby(['restaurant_id']).size()\n",
    "drop_index = temp.loc[temp.values > 50].index\n",
    "df = df.loc[df['restaurant_id'].isin(drop_index)]"
   ]
  },
  {
   "cell_type": "code",
   "execution_count": 24,
   "metadata": {},
   "outputs": [
    {
     "data": {
      "text/plain": [
       "Int64Index([     2,      4,      6,      7,      9,     14,     18,     20,\n",
       "                21,     27,\n",
       "            ...\n",
       "            244276, 246384, 249722, 253792, 254296, 258714, 271867, 274507,\n",
       "            281503, 377124],\n",
       "           dtype='int64', name='restaurant_id', length=3368)"
      ]
     },
     "execution_count": 24,
     "metadata": {},
     "output_type": "execute_result"
    }
   ],
   "source": [
    "drop_index"
   ]
  },
  {
   "cell_type": "code",
   "execution_count": 25,
   "metadata": {},
   "outputs": [],
   "source": [
    "df['score'] = df.apply(lambda row: 2 if row['type']=='check-in' else 1 , axis = 1)"
   ]
  },
  {
   "cell_type": "code",
   "execution_count": 26,
   "metadata": {},
   "outputs": [],
   "source": [
    "train_data = df.drop(columns=['type','timestamp'])"
   ]
  },
  {
   "cell_type": "code",
   "execution_count": 27,
   "metadata": {},
   "outputs": [],
   "source": [
    "def calculate_score(df):\n",
    "    return df['score'].sum()"
   ]
  },
  {
   "cell_type": "code",
   "execution_count": 28,
   "metadata": {},
   "outputs": [],
   "source": [
    "temp = train_data.groupby(['restaurant_id','user_id']).apply(calculate_score)"
   ]
  },
  {
   "cell_type": "code",
   "execution_count": 29,
   "metadata": {},
   "outputs": [],
   "source": [
    "temp = pd.DataFrame(temp).reset_index()"
   ]
  },
  {
   "cell_type": "code",
   "execution_count": 30,
   "metadata": {},
   "outputs": [],
   "source": [
    "temp.columns = ['restaurant_id', 'user_id', 'score']"
   ]
  },
  {
   "cell_type": "code",
   "execution_count": 31,
   "metadata": {},
   "outputs": [],
   "source": [
    "temp.to_csv(path_or_buf='resources/filtered_train.csv', index=False)"
   ]
  },
  {
   "cell_type": "code",
   "execution_count": null,
   "metadata": {},
   "outputs": [],
   "source": []
  }
 ],
 "metadata": {
  "kernelspec": {
   "display_name": "Python 3",
   "language": "python",
   "name": "python3"
  },
  "language_info": {
   "codemirror_mode": {
    "name": "ipython",
    "version": 3
   },
   "file_extension": ".py",
   "mimetype": "text/x-python",
   "name": "python",
   "nbconvert_exporter": "python",
   "pygments_lexer": "ipython3",
   "version": "3.6.5"
  }
 },
 "nbformat": 4,
 "nbformat_minor": 2
}
