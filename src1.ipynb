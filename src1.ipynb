{
 "cells": [
  {
   "cell_type": "code",
   "execution_count": 2,
   "metadata": {},
   "outputs": [],
   "source": [
    "import numpy as np\n",
    "import pandas as pd"
   ]
  },
  {
   "cell_type": "code",
   "execution_count": 3,
   "metadata": {},
   "outputs": [],
   "source": [
    "df = pd.read_csv('resources/train.csv')"
   ]
  },
  {
   "cell_type": "code",
   "execution_count": 3,
   "metadata": {},
   "outputs": [
    {
     "data": {
      "text/html": [
       "<div>\n",
       "<style scoped>\n",
       "    .dataframe tbody tr th:only-of-type {\n",
       "        vertical-align: middle;\n",
       "    }\n",
       "\n",
       "    .dataframe tbody tr th {\n",
       "        vertical-align: top;\n",
       "    }\n",
       "\n",
       "    .dataframe thead th {\n",
       "        text-align: right;\n",
       "    }\n",
       "</style>\n",
       "<table border=\"1\" class=\"dataframe\">\n",
       "  <thead>\n",
       "    <tr style=\"text-align: right;\">\n",
       "      <th></th>\n",
       "      <th>user_id</th>\n",
       "      <th>restaurant_id</th>\n",
       "      <th>type</th>\n",
       "      <th>timestamp</th>\n",
       "    </tr>\n",
       "  </thead>\n",
       "  <tbody>\n",
       "    <tr>\n",
       "      <th>0</th>\n",
       "      <td>2</td>\n",
       "      <td>17782</td>\n",
       "      <td>check-in</td>\n",
       "      <td>17/10/2012 11:03</td>\n",
       "    </tr>\n",
       "    <tr>\n",
       "      <th>1</th>\n",
       "      <td>6219</td>\n",
       "      <td>22458</td>\n",
       "      <td>check-in</td>\n",
       "      <td>26/10/2012 14:34</td>\n",
       "    </tr>\n",
       "    <tr>\n",
       "      <th>2</th>\n",
       "      <td>3</td>\n",
       "      <td>54559</td>\n",
       "      <td>check-in</td>\n",
       "      <td>28/10/2012 13:06</td>\n",
       "    </tr>\n",
       "    <tr>\n",
       "      <th>3</th>\n",
       "      <td>4</td>\n",
       "      <td>3377</td>\n",
       "      <td>check-in</td>\n",
       "      <td>29/10/2012 20:21</td>\n",
       "    </tr>\n",
       "    <tr>\n",
       "      <th>4</th>\n",
       "      <td>4</td>\n",
       "      <td>27473</td>\n",
       "      <td>check-in</td>\n",
       "      <td>29/10/2012 20:56</td>\n",
       "    </tr>\n",
       "  </tbody>\n",
       "</table>\n",
       "</div>"
      ],
      "text/plain": [
       "   user_id  restaurant_id      type         timestamp\n",
       "0        2          17782  check-in  17/10/2012 11:03\n",
       "1     6219          22458  check-in  26/10/2012 14:34\n",
       "2        3          54559  check-in  28/10/2012 13:06\n",
       "3        4           3377  check-in  29/10/2012 20:21\n",
       "4        4          27473  check-in  29/10/2012 20:56"
      ]
     },
     "execution_count": 3,
     "metadata": {},
     "output_type": "execute_result"
    }
   ],
   "source": [
    "df.head()"
   ]
  },
  {
   "cell_type": "code",
   "execution_count": 4,
   "metadata": {},
   "outputs": [],
   "source": [
    "df['score'] = df.apply(lambda row: 2 if row['type']=='check-in' else 1 , axis = 1)"
   ]
  },
  {
   "cell_type": "code",
   "execution_count": 5,
   "metadata": {},
   "outputs": [],
   "source": [
    "train_data = df.drop(columns=['type','timestamp'])"
   ]
  },
  {
   "cell_type": "code",
   "execution_count": 6,
   "metadata": {},
   "outputs": [],
   "source": [
    "def calculate_score(df):\n",
    "    return df['score'].sum()"
   ]
  },
  {
   "cell_type": "code",
   "execution_count": 7,
   "metadata": {},
   "outputs": [],
   "source": [
    "temp = train_data.groupby(['restaurant_id','user_id']).apply(calculate_score)"
   ]
  },
  {
   "cell_type": "code",
   "execution_count": 8,
   "metadata": {},
   "outputs": [],
   "source": [
    "temp = pd.DataFrame(temp).reset_index()"
   ]
  },
  {
   "cell_type": "code",
   "execution_count": 9,
   "metadata": {},
   "outputs": [],
   "source": [
    "temp.columns = ['restaurant_id', 'user_id', 'score']"
   ]
  },
  {
   "cell_type": "code",
   "execution_count": 10,
   "metadata": {},
   "outputs": [],
   "source": [
    "temp.to_csv(path_or_buf='resources/filtered_train.csv')"
   ]
  },
  {
   "cell_type": "code",
   "execution_count": 27,
   "metadata": {},
   "outputs": [],
   "source": [
    "n_users = temp['user_id'].nunique()\n",
    "n_restaurants = temp['restaurant_id'].nunique()"
   ]
  },
  {
   "cell_type": "code",
   "execution_count": 45,
   "metadata": {},
   "outputs": [
    {
     "ename": "MemoryError",
     "evalue": "",
     "output_type": "error",
     "traceback": [
      "\u001b[1;31m---------------------------------------------------------------------------\u001b[0m",
      "\u001b[1;31mMemoryError\u001b[0m                               Traceback (most recent call last)",
      "\u001b[1;32m<ipython-input-45-8899e4b2d629>\u001b[0m in \u001b[0;36m<module>\u001b[1;34m\u001b[0m\n\u001b[1;32m----> 1\u001b[1;33m \u001b[0mscore_matrix\u001b[0m \u001b[1;33m=\u001b[0m \u001b[0mnp\u001b[0m\u001b[1;33m.\u001b[0m\u001b[0mzeros\u001b[0m\u001b[1;33m(\u001b[0m\u001b[1;33m(\u001b[0m\u001b[0mn_users\u001b[0m\u001b[1;33m,\u001b[0m\u001b[0mn_restaurants\u001b[0m\u001b[1;33m)\u001b[0m\u001b[1;33m)\u001b[0m\u001b[1;33m\u001b[0m\u001b[1;33m\u001b[0m\u001b[0m\n\u001b[0m\u001b[0;32m      2\u001b[0m \u001b[1;32mfor\u001b[0m \u001b[0mindex\u001b[0m\u001b[1;33m,\u001b[0m\u001b[0mrow\u001b[0m \u001b[1;32min\u001b[0m \u001b[0mtemp\u001b[0m\u001b[1;33m.\u001b[0m\u001b[0miterrows\u001b[0m\u001b[1;33m(\u001b[0m\u001b[1;33m)\u001b[0m\u001b[1;33m:\u001b[0m\u001b[1;33m\u001b[0m\u001b[1;33m\u001b[0m\u001b[0m\n\u001b[0;32m      3\u001b[0m     \u001b[0mscore_matrix\u001b[0m\u001b[1;33m[\u001b[0m\u001b[0mrow\u001b[0m\u001b[1;33m[\u001b[0m\u001b[1;36m1\u001b[0m\u001b[1;33m]\u001b[0m\u001b[1;33m-\u001b[0m\u001b[1;36m1\u001b[0m\u001b[1;33m,\u001b[0m \u001b[0mrow\u001b[0m\u001b[1;33m[\u001b[0m\u001b[1;36m0\u001b[0m\u001b[1;33m]\u001b[0m\u001b[1;33m-\u001b[0m\u001b[1;36m1\u001b[0m\u001b[1;33m]\u001b[0m \u001b[1;33m=\u001b[0m \u001b[0mrow\u001b[0m\u001b[1;33m[\u001b[0m\u001b[1;36m2\u001b[0m\u001b[1;33m]\u001b[0m\u001b[1;33m\u001b[0m\u001b[1;33m\u001b[0m\u001b[0m\n",
      "\u001b[1;31mMemoryError\u001b[0m: "
     ]
    }
   ],
   "source": [
    "score_matrix = np.zeros((n_users,n_restaurants))\n",
    "for index,row in temp.iterrows():\n",
    "    score_matrix[row[1]-1, row[0]-1] = row[2]"
   ]
  },
  {
   "cell_type": "code",
   "execution_count": 44,
   "metadata": {},
   "outputs": [
    {
     "name": "stdout",
     "output_type": "stream",
     "text": [
      "restaurant_id     2\n",
      "user_id          14\n",
      "score             1\n",
      "Name: 0, dtype: int64\n",
      "restaurant_id       2\n",
      "user_id          2087\n",
      "score               1\n",
      "Name: 1, dtype: int64\n",
      "restaurant_id       2\n",
      "user_id          4625\n",
      "score               1\n",
      "Name: 2, dtype: int64\n",
      "restaurant_id       2\n",
      "user_id          4626\n",
      "score               1\n",
      "Name: 3, dtype: int64\n",
      "restaurant_id       2\n",
      "user_id          4826\n",
      "score               1\n",
      "Name: 4, dtype: int64\n",
      "restaurant_id       2\n",
      "user_id          6346\n",
      "score               1\n",
      "Name: 5, dtype: int64\n",
      "restaurant_id       2\n",
      "user_id          7487\n",
      "score               1\n",
      "Name: 6, dtype: int64\n",
      "restaurant_id       2\n",
      "user_id          8250\n",
      "score               1\n",
      "Name: 7, dtype: int64\n",
      "restaurant_id       2\n",
      "user_id          8352\n",
      "score               1\n",
      "Name: 8, dtype: int64\n",
      "restaurant_id        2\n",
      "user_id          10365\n",
      "score                1\n",
      "Name: 9, dtype: int64\n",
      "restaurant_id        2\n",
      "user_id          10568\n",
      "score                1\n",
      "Name: 10, dtype: int64\n"
     ]
    }
   ],
   "source": [
    "c = 0\n",
    "for index,row in temp.iterrows():\n",
    "    print(row)\n",
    "    c+=1\n",
    "    if (c > 10):\n",
    "        break;"
   ]
  },
  {
   "cell_type": "code",
   "execution_count": null,
   "metadata": {},
   "outputs": [],
   "source": []
  }
 ],
 "metadata": {
  "kernelspec": {
   "display_name": "Python 3",
   "language": "python",
   "name": "python3"
  },
  "language_info": {
   "codemirror_mode": {
    "name": "ipython",
    "version": 3
   },
   "file_extension": ".py",
   "mimetype": "text/x-python",
   "name": "python",
   "nbconvert_exporter": "python",
   "pygments_lexer": "ipython3",
   "version": "3.7.3"
  }
 },
 "nbformat": 4,
 "nbformat_minor": 2
}
