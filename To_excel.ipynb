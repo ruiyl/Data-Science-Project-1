{
 "cells": [
  {
   "cell_type": "code",
   "execution_count": 1,
   "metadata": {},
   "outputs": [],
   "source": [
    "import numpy as np\n",
    "import pandas as pd\n",
    "from sqlalchemy import create_engine"
   ]
  },
  {
   "cell_type": "code",
   "execution_count": 2,
   "metadata": {},
   "outputs": [],
   "source": [
    "query = open('../datasci_project_2019_wongnaidb_20190305_v2.sql', 'r')"
   ]
  },
  {
   "cell_type": "code",
   "execution_count": 6,
   "metadata": {},
   "outputs": [],
   "source": [
    "connection = 'mysql://root:@Bk022115470@localhost/db'"
   ]
  },
  {
   "cell_type": "code",
   "execution_count": 4,
   "metadata": {},
   "outputs": [],
   "source": [
    "# I got a lot of problems before being able to use this :( \"pip3 install mysqlclient\" might help\n",
    "# df = pd.read_sql('select * from w_user', connection)"
   ]
  },
  {
   "cell_type": "code",
   "execution_count": 7,
   "metadata": {},
   "outputs": [],
   "source": [
    "table = pd.read_sql('show tables', connection)"
   ]
  },
  {
   "cell_type": "code",
   "execution_count": 8,
   "metadata": {},
   "outputs": [
    {
     "data": {
      "text/plain": [
       "array(['w_activity', 'w_article', 'w_bookmark_item',\n",
       "       'w_bookmark_item_label', 'w_bookmark_label', 'w_business_gallery',\n",
       "       'w_business_photo', 'w_category', 'w_chain', 'w_chain_category',\n",
       "       'w_chain_menu_group', 'w_chain_menu_group_item',\n",
       "       'w_chain_menu_item', 'w_checkin_activity_data', 'w_credit_history',\n",
       "       'w_follow', 'w_menu_group', 'w_menu_group_item', 'w_menu_item',\n",
       "       'w_photo', 'w_photo_gallery', 'w_photo_location',\n",
       "       'w_photo_product', 'w_product', 'w_rating',\n",
       "       'w_rating_activity_data', 'w_ref', 'w_region', 'w_restaurant',\n",
       "       'w_restaurant_alcohol', 'w_restaurant_category',\n",
       "       'w_restaurant_checkin_user', 'w_restaurant_neighborhood',\n",
       "       'w_review', 'w_review_board', 'w_review_board_rating',\n",
       "       'w_review_board_review', 'w_review_comment', 'w_review_menu_item',\n",
       "       'w_review_official_reply', 'w_review_product', 'w_review_report',\n",
       "       'w_review_revision', 'w_review_suitable', 'w_review_vote',\n",
       "       'w_user', 'w_working_hour'], dtype=object)"
      ]
     },
     "execution_count": 8,
     "metadata": {},
     "output_type": "execute_result"
    }
   ],
   "source": [
    "table['Tables_in_db'].values"
   ]
  },
  {
   "cell_type": "code",
   "execution_count": 9,
   "metadata": {},
   "outputs": [
    {
     "name": "stdout",
     "output_type": "stream",
     "text": [
      "1 out of 47\n",
      "2 out of 47\n",
      "3 out of 47\n",
      "4 out of 47\n",
      "5 out of 47\n",
      "6 out of 47\n",
      "7 out of 47\n",
      "8 out of 47\n",
      "9 out of 47\n",
      "10 out of 47\n",
      "11 out of 47\n",
      "12 out of 47\n",
      "13 out of 47\n",
      "14 out of 47\n",
      "15 out of 47\n",
      "16 out of 47\n",
      "17 out of 47\n",
      "18 out of 47\n",
      "19 out of 47\n",
      "20 out of 47\n",
      "21 out of 47\n",
      "22 out of 47\n",
      "23 out of 47\n",
      "24 out of 47\n",
      "25 out of 47\n",
      "26 out of 47\n",
      "27 out of 47\n",
      "28 out of 47\n",
      "29 out of 47\n",
      "30 out of 47\n",
      "31 out of 47\n",
      "32 out of 47\n",
      "33 out of 47\n",
      "34 out of 47\n",
      "35 out of 47\n",
      "36 out of 47\n",
      "37 out of 47\n",
      "38 out of 47\n",
      "39 out of 47\n",
      "40 out of 47\n",
      "41 out of 47\n",
      "42 out of 47\n",
      "43 out of 47\n",
      "44 out of 47\n",
      "45 out of 47\n",
      "46 out of 47\n",
      "47 out of 47\n"
     ]
    }
   ],
   "source": [
    "count = 1\n",
    "for i in table['Tables_in_db'].values:\n",
    "    print(str(count) + \" out of \" + str(len(table['Tables_in_db'].values)))\n",
    "    df = pd.read_sql('select * from ' + i, connection)\n",
    "    df.to_csv(path_or_buf='resources/' + i + '.csv', index=False)\n",
    "    count = count + 1"
   ]
  },
  {
   "cell_type": "code",
   "execution_count": null,
   "metadata": {},
   "outputs": [],
   "source": []
  }
 ],
 "metadata": {
  "kernelspec": {
   "display_name": "Python 3",
   "language": "python",
   "name": "python3"
  },
  "language_info": {
   "codemirror_mode": {
    "name": "ipython",
    "version": 3
   },
   "file_extension": ".py",
   "mimetype": "text/x-python",
   "name": "python",
   "nbconvert_exporter": "python",
   "pygments_lexer": "ipython3",
   "version": "3.6.5"
  }
 },
 "nbformat": 4,
 "nbformat_minor": 2
}
