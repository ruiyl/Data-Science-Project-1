{
 "cells": [
  {
   "cell_type": "code",
   "execution_count": 1,
   "metadata": {},
   "outputs": [],
   "source": [
    "import numpy as np\n",
    "import pandas as pd\n",
    "import matplotlib.pyplot as plt\n",
    "import seaborn as sns\n",
    "sns.set_style('white')\n",
    "%matplotlib inline"
   ]
  },
  {
   "cell_type": "code",
   "execution_count": 2,
   "metadata": {},
   "outputs": [],
   "source": [
    "df = pd.read_csv('resources/train.csv')\n",
    "test_df = pd.read_csv('resources/test.csv')"
   ]
  },
  {
   "cell_type": "code",
   "execution_count": 3,
   "metadata": {},
   "outputs": [],
   "source": [
    "user_interaction = pd.DataFrame(df.drop(['type','timestamp'],axis=1).drop_duplicates().groupby(['user_id']).size())\n",
    "user_interaction = user_interaction.reset_index()\n",
    "user_interaction.columns = ['user_id', 'num_restaurant']"
   ]
  },
  {
   "cell_type": "code",
   "execution_count": 6,
   "metadata": {},
   "outputs": [],
   "source": [
    "num_user = user_interaction.shape[0]\n",
    "num_user_one = user_interaction[user_interaction['num_restaurant']==1].shape[0]"
   ]
  },
  {
   "cell_type": "code",
   "execution_count": 7,
   "metadata": {},
   "outputs": [
    {
     "name": "stdout",
     "output_type": "stream",
     "text": [
      "168893\n",
      "100504\n",
      "0.5950749883062058\n"
     ]
    }
   ],
   "source": [
    "print(num_user)\n",
    "print(num_user_one)\n",
    "print(num_user_one/num_user)"
   ]
  },
  {
   "cell_type": "code",
   "execution_count": 90,
   "metadata": {},
   "outputs": [],
   "source": [
    "num_user_interaction_l = []\n",
    "for i in range(50):\n",
    "    num_user_interaction_l.append(user_interaction[user_interaction['num_restaurant'] == i].shape[0])"
   ]
  },
  {
   "cell_type": "code",
   "execution_count": 91,
   "metadata": {},
   "outputs": [
    {
     "data": {
      "text/plain": [
       "[0,\n",
       " 100504,\n",
       " 23359,\n",
       " 10618,\n",
       " 6309,\n",
       " 4334,\n",
       " 3094,\n",
       " 2415,\n",
       " 1913,\n",
       " 1579,\n",
       " 1346,\n",
       " 1086,\n",
       " 912,\n",
       " 791,\n",
       " 674,\n",
       " 593,\n",
       " 544,\n",
       " 450,\n",
       " 433,\n",
       " 385,\n",
       " 373,\n",
       " 321,\n",
       " 294,\n",
       " 251,\n",
       " 277,\n",
       " 246,\n",
       " 198,\n",
       " 212,\n",
       " 193,\n",
       " 177,\n",
       " 167,\n",
       " 156,\n",
       " 144,\n",
       " 122,\n",
       " 136,\n",
       " 112,\n",
       " 103,\n",
       " 122,\n",
       " 105,\n",
       " 95,\n",
       " 110,\n",
       " 103,\n",
       " 79,\n",
       " 102,\n",
       " 84,\n",
       " 74,\n",
       " 62,\n",
       " 64,\n",
       " 63,\n",
       " 63]"
      ]
     },
     "execution_count": 91,
     "metadata": {},
     "output_type": "execute_result"
    }
   ],
   "source": [
    "num_user_interaction_l"
   ]
  },
  {
   "cell_type": "code",
   "execution_count": 8,
   "metadata": {},
   "outputs": [],
   "source": [
    "restaurant_interaction = pd.DataFrame(df.drop(['type','timestamp'],axis=1).drop_duplicates().groupby(['restaurant_id']).size())\n",
    "restaurant_interaction = restaurant_interaction.reset_index()\n",
    "restaurant_interaction.columns = ['restaurant_id', 'num_user']"
   ]
  },
  {
   "cell_type": "code",
   "execution_count": 9,
   "metadata": {},
   "outputs": [
    {
     "name": "stdout",
     "output_type": "stream",
     "text": [
      "136763\n",
      "62194\n"
     ]
    }
   ],
   "source": [
    "num_restaurant = restaurant_interaction.shape[0]\n",
    "num_restaurant_one = restaurant_interaction[restaurant_interaction['num_user'] < 2].shape[0]\n",
    "print(num_restaurant)\n",
    "print(num_restaurant_one)"
   ]
  },
  {
   "cell_type": "code",
   "execution_count": 96,
   "metadata": {},
   "outputs": [],
   "source": [
    "num_restaurant_interaction_l = []\n",
    "for i in range(50):\n",
    "    num_restaurant_interaction_l.append(restaurant_interaction[restaurant_interaction['num_user'] == i].shape[0])"
   ]
  },
  {
   "cell_type": "code",
   "execution_count": 97,
   "metadata": {},
   "outputs": [
    {
     "data": {
      "text/plain": [
       "[0,\n",
       " 62194,\n",
       " 21529,\n",
       " 11423,\n",
       " 7169,\n",
       " 4955,\n",
       " 3686,\n",
       " 2870,\n",
       " 2288,\n",
       " 1821,\n",
       " 1565,\n",
       " 1298,\n",
       " 1176,\n",
       " 1050,\n",
       " 905,\n",
       " 789,\n",
       " 737,\n",
       " 596,\n",
       " 606,\n",
       " 496,\n",
       " 461,\n",
       " 425,\n",
       " 403,\n",
       " 341,\n",
       " 358,\n",
       " 307,\n",
       " 292,\n",
       " 289,\n",
       " 258,\n",
       " 262,\n",
       " 246,\n",
       " 209,\n",
       " 197,\n",
       " 189,\n",
       " 168,\n",
       " 170,\n",
       " 154,\n",
       " 139,\n",
       " 148,\n",
       " 144,\n",
       " 147,\n",
       " 118,\n",
       " 121,\n",
       " 105,\n",
       " 135,\n",
       " 94,\n",
       " 97,\n",
       " 80,\n",
       " 82,\n",
       " 85]"
      ]
     },
     "execution_count": 97,
     "metadata": {},
     "output_type": "execute_result"
    }
   ],
   "source": [
    "num_restaurant_interaction_l"
   ]
  },
  {
   "cell_type": "code",
   "execution_count": 71,
   "metadata": {},
   "outputs": [
    {
     "data": {
      "text/plain": [
       "<matplotlib.axes._subplots.AxesSubplot at 0x1f51c32d198>"
      ]
     },
     "execution_count": 71,
     "metadata": {},
     "output_type": "execute_result"
    },
    {
     "data": {
      "image/png": "[encoded data removed]",
      "text/plain": [
       "<Figure size 720x288 with 1 Axes>"
      ]
     },
     "metadata": {
      "needs_background": "light"
     },
     "output_type": "display_data"
    }
   ],
   "source": [
    "plt.figure(figsize=(10,4))\n",
    "user_interaction[user_interaction['num_restaurant'] > 4]['num_restaurant'].hist(bins=10, range=[0,3000])"
   ]
  },
  {
   "cell_type": "code",
   "execution_count": 16,
   "metadata": {},
   "outputs": [],
   "source": [
    "restaurant_interaction = pd.DataFrame(df.groupby(['restaurant_id']).size())\n",
    "restaurant_interaction.columns = ['num_of_interaction']"
   ]
  },
  {
   "cell_type": "code",
   "execution_count": 36,
   "metadata": {},
   "outputs": [
    {
     "data": {
      "text/html": [
       "<div>\n",
       "<style scoped>\n",
       "    .dataframe tbody tr th:only-of-type {\n",
       "        vertical-align: middle;\n",
       "    }\n",
       "\n",
       "    .dataframe tbody tr th {\n",
       "        vertical-align: top;\n",
       "    }\n",
       "\n",
       "    .dataframe thead th {\n",
       "        text-align: right;\n",
       "    }\n",
       "</style>\n",
       "<table border=\"1\" class=\"dataframe\">\n",
       "  <thead>\n",
       "    <tr style=\"text-align: right;\">\n",
       "      <th></th>\n",
       "      <th>num_of_interaction</th>\n",
       "    </tr>\n",
       "    <tr>\n",
       "      <th>restaurant_id</th>\n",
       "      <th></th>\n",
       "    </tr>\n",
       "  </thead>\n",
       "  <tbody>\n",
       "    <tr>\n",
       "      <th>12340</th>\n",
       "      <td>1875</td>\n",
       "    </tr>\n",
       "    <tr>\n",
       "      <th>10183</th>\n",
       "      <td>1858</td>\n",
       "    </tr>\n",
       "    <tr>\n",
       "      <th>2785</th>\n",
       "      <td>1509</td>\n",
       "    </tr>\n",
       "    <tr>\n",
       "      <th>5290</th>\n",
       "      <td>1418</td>\n",
       "    </tr>\n",
       "    <tr>\n",
       "      <th>2856</th>\n",
       "      <td>1407</td>\n",
       "    </tr>\n",
       "    <tr>\n",
       "      <th>3483</th>\n",
       "      <td>1312</td>\n",
       "    </tr>\n",
       "    <tr>\n",
       "      <th>2858</th>\n",
       "      <td>1297</td>\n",
       "    </tr>\n",
       "    <tr>\n",
       "      <th>7021</th>\n",
       "      <td>1248</td>\n",
       "    </tr>\n",
       "    <tr>\n",
       "      <th>1262</th>\n",
       "      <td>1137</td>\n",
       "    </tr>\n",
       "    <tr>\n",
       "      <th>2011</th>\n",
       "      <td>1100</td>\n",
       "    </tr>\n",
       "    <tr>\n",
       "      <th>23946</th>\n",
       "      <td>1048</td>\n",
       "    </tr>\n",
       "    <tr>\n",
       "      <th>8742</th>\n",
       "      <td>1048</td>\n",
       "    </tr>\n",
       "    <tr>\n",
       "      <th>2454</th>\n",
       "      <td>1003</td>\n",
       "    </tr>\n",
       "    <tr>\n",
       "      <th>18587</th>\n",
       "      <td>991</td>\n",
       "    </tr>\n",
       "    <tr>\n",
       "      <th>126062</th>\n",
       "      <td>985</td>\n",
       "    </tr>\n",
       "    <tr>\n",
       "      <th>2559</th>\n",
       "      <td>983</td>\n",
       "    </tr>\n",
       "    <tr>\n",
       "      <th>10191</th>\n",
       "      <td>949</td>\n",
       "    </tr>\n",
       "    <tr>\n",
       "      <th>9023</th>\n",
       "      <td>946</td>\n",
       "    </tr>\n",
       "    <tr>\n",
       "      <th>141381</th>\n",
       "      <td>943</td>\n",
       "    </tr>\n",
       "    <tr>\n",
       "      <th>11596</th>\n",
       "      <td>940</td>\n",
       "    </tr>\n",
       "    <tr>\n",
       "      <th>4</th>\n",
       "      <td>928</td>\n",
       "    </tr>\n",
       "    <tr>\n",
       "      <th>8344</th>\n",
       "      <td>899</td>\n",
       "    </tr>\n",
       "    <tr>\n",
       "      <th>7699</th>\n",
       "      <td>861</td>\n",
       "    </tr>\n",
       "    <tr>\n",
       "      <th>7644</th>\n",
       "      <td>860</td>\n",
       "    </tr>\n",
       "    <tr>\n",
       "      <th>14266</th>\n",
       "      <td>857</td>\n",
       "    </tr>\n",
       "    <tr>\n",
       "      <th>4285</th>\n",
       "      <td>848</td>\n",
       "    </tr>\n",
       "    <tr>\n",
       "      <th>8506</th>\n",
       "      <td>828</td>\n",
       "    </tr>\n",
       "    <tr>\n",
       "      <th>3475</th>\n",
       "      <td>823</td>\n",
       "    </tr>\n",
       "    <tr>\n",
       "      <th>9053</th>\n",
       "      <td>795</td>\n",
       "    </tr>\n",
       "    <tr>\n",
       "      <th>8669</th>\n",
       "      <td>784</td>\n",
       "    </tr>\n",
       "    <tr>\n",
       "      <th>...</th>\n",
       "      <td>...</td>\n",
       "    </tr>\n",
       "    <tr>\n",
       "      <th>36345</th>\n",
       "      <td>1</td>\n",
       "    </tr>\n",
       "    <tr>\n",
       "      <th>207242</th>\n",
       "      <td>1</td>\n",
       "    </tr>\n",
       "    <tr>\n",
       "      <th>110138</th>\n",
       "      <td>1</td>\n",
       "    </tr>\n",
       "    <tr>\n",
       "      <th>207197</th>\n",
       "      <td>1</td>\n",
       "    </tr>\n",
       "    <tr>\n",
       "      <th>148564</th>\n",
       "      <td>1</td>\n",
       "    </tr>\n",
       "    <tr>\n",
       "      <th>148562</th>\n",
       "      <td>1</td>\n",
       "    </tr>\n",
       "    <tr>\n",
       "      <th>148561</th>\n",
       "      <td>1</td>\n",
       "    </tr>\n",
       "    <tr>\n",
       "      <th>207201</th>\n",
       "      <td>1</td>\n",
       "    </tr>\n",
       "    <tr>\n",
       "      <th>148558</th>\n",
       "      <td>1</td>\n",
       "    </tr>\n",
       "    <tr>\n",
       "      <th>207203</th>\n",
       "      <td>1</td>\n",
       "    </tr>\n",
       "    <tr>\n",
       "      <th>36329</th>\n",
       "      <td>1</td>\n",
       "    </tr>\n",
       "    <tr>\n",
       "      <th>36328</th>\n",
       "      <td>1</td>\n",
       "    </tr>\n",
       "    <tr>\n",
       "      <th>207206</th>\n",
       "      <td>1</td>\n",
       "    </tr>\n",
       "    <tr>\n",
       "      <th>36316</th>\n",
       "      <td>1</td>\n",
       "    </tr>\n",
       "    <tr>\n",
       "      <th>207208</th>\n",
       "      <td>1</td>\n",
       "    </tr>\n",
       "    <tr>\n",
       "      <th>207209</th>\n",
       "      <td>1</td>\n",
       "    </tr>\n",
       "    <tr>\n",
       "      <th>148557</th>\n",
       "      <td>1</td>\n",
       "    </tr>\n",
       "    <tr>\n",
       "      <th>207211</th>\n",
       "      <td>1</td>\n",
       "    </tr>\n",
       "    <tr>\n",
       "      <th>207212</th>\n",
       "      <td>1</td>\n",
       "    </tr>\n",
       "    <tr>\n",
       "      <th>207214</th>\n",
       "      <td>1</td>\n",
       "    </tr>\n",
       "    <tr>\n",
       "      <th>207216</th>\n",
       "      <td>1</td>\n",
       "    </tr>\n",
       "    <tr>\n",
       "      <th>110148</th>\n",
       "      <td>1</td>\n",
       "    </tr>\n",
       "    <tr>\n",
       "      <th>207222</th>\n",
       "      <td>1</td>\n",
       "    </tr>\n",
       "    <tr>\n",
       "      <th>110157</th>\n",
       "      <td>1</td>\n",
       "    </tr>\n",
       "    <tr>\n",
       "      <th>36302</th>\n",
       "      <td>1</td>\n",
       "    </tr>\n",
       "    <tr>\n",
       "      <th>207226</th>\n",
       "      <td>1</td>\n",
       "    </tr>\n",
       "    <tr>\n",
       "      <th>207237</th>\n",
       "      <td>1</td>\n",
       "    </tr>\n",
       "    <tr>\n",
       "      <th>110159</th>\n",
       "      <td>1</td>\n",
       "    </tr>\n",
       "    <tr>\n",
       "      <th>207240</th>\n",
       "      <td>1</td>\n",
       "    </tr>\n",
       "    <tr>\n",
       "      <th>381285</th>\n",
       "      <td>1</td>\n",
       "    </tr>\n",
       "  </tbody>\n",
       "</table>\n",
       "<p>136763 rows × 1 columns</p>\n",
       "</div>"
      ],
      "text/plain": [
       "               num_of_interaction\n",
       "restaurant_id                    \n",
       "12340                        1875\n",
       "10183                        1858\n",
       "2785                         1509\n",
       "5290                         1418\n",
       "2856                         1407\n",
       "3483                         1312\n",
       "2858                         1297\n",
       "7021                         1248\n",
       "1262                         1137\n",
       "2011                         1100\n",
       "23946                        1048\n",
       "8742                         1048\n",
       "2454                         1003\n",
       "18587                         991\n",
       "126062                        985\n",
       "2559                          983\n",
       "10191                         949\n",
       "9023                          946\n",
       "141381                        943\n",
       "11596                         940\n",
       "4                             928\n",
       "8344                          899\n",
       "7699                          861\n",
       "7644                          860\n",
       "14266                         857\n",
       "4285                          848\n",
       "8506                          828\n",
       "3475                          823\n",
       "9053                          795\n",
       "8669                          784\n",
       "...                           ...\n",
       "36345                           1\n",
       "207242                          1\n",
       "110138                          1\n",
       "207197                          1\n",
       "148564                          1\n",
       "148562                          1\n",
       "148561                          1\n",
       "207201                          1\n",
       "148558                          1\n",
       "207203                          1\n",
       "36329                           1\n",
       "36328                           1\n",
       "207206                          1\n",
       "36316                           1\n",
       "207208                          1\n",
       "207209                          1\n",
       "148557                          1\n",
       "207211                          1\n",
       "207212                          1\n",
       "207214                          1\n",
       "207216                          1\n",
       "110148                          1\n",
       "207222                          1\n",
       "110157                          1\n",
       "36302                           1\n",
       "207226                          1\n",
       "207237                          1\n",
       "110159                          1\n",
       "207240                          1\n",
       "381285                          1\n",
       "\n",
       "[136763 rows x 1 columns]"
      ]
     },
     "execution_count": 36,
     "metadata": {},
     "output_type": "execute_result"
    }
   ],
   "source": [
    "restaurant_interaction.sort_values('num_of_interaction', ascending=False)"
   ]
  },
  {
   "cell_type": "code",
   "execution_count": 39,
   "metadata": {},
   "outputs": [
    {
     "data": {
      "text/plain": [
       "<matplotlib.axes._subplots.AxesSubplot at 0x1d48ac31550>"
      ]
     },
     "execution_count": 39,
     "metadata": {},
     "output_type": "execute_result"
    },
    {
     "data": {
      "image/png": "[encoded data removed]",
      "text/plain": [
       "<Figure size 720x288 with 1 Axes>"
      ]
     },
     "metadata": {
      "needs_background": "light"
     },
     "output_type": "display_data"
    }
   ],
   "source": [
    "plt.figure(figsize=(10,4))\n",
    "restaurant_interaction['num_of_interaction'].hist(bins=100, range=[50,1000])"
   ]
  },
  {
   "cell_type": "code",
   "execution_count": null,
   "metadata": {},
   "outputs": [],
   "source": []
  }
 ],
 "metadata": {
  "kernelspec": {
   "display_name": "Python 3",
   "language": "python",
   "name": "python3"
  },
  "language_info": {
   "codemirror_mode": {
    "name": "ipython",
    "version": 3
   },
   "file_extension": ".py",
   "mimetype": "text/x-python",
   "name": "python",
   "nbconvert_exporter": "python",
   "pygments_lexer": "ipython3",
   "version": "3.7.3"
  }
 },
 "nbformat": 4,
 "nbformat_minor": 2
}
